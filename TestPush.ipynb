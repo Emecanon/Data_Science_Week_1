{
 "cells": [
  {
   "cell_type": "markdown",
   "id": "19d28365-e225-43b3-9be5-69e26f88b541",
   "metadata": {},
   "source": [
    "# Personal Details"
   ]
  },
  {
   "cell_type": "code",
   "execution_count": 29,
   "id": "e0062869-30d9-4319-ac53-60fb32a6c5a8",
   "metadata": {},
   "outputs": [],
   "source": [
    "Masaki = {\n",
    "    \"First_Name\": 'Erick',\n",
    "    \"Last_Name\": 'Masaki',\n",
    "    \"Full_Name\": f\"{Masaki['First_Name']} {Masaki['Last_Name']}\",\n",
    "    \"Age\": 34,\n",
    "    \"Country\": 'Kenya',\n",
    "    \"Marital Status\": 'Married'\n",
    "}"
   ]
  },
  {
   "cell_type": "code",
   "execution_count": 30,
   "id": "992b0d71-2b8c-44ba-82a0-ace257922e17",
   "metadata": {},
   "outputs": [
    {
     "data": {
      "text/plain": [
       "'Erick Masaki'"
      ]
     },
     "execution_count": 30,
     "metadata": {},
     "output_type": "execute_result"
    }
   ],
   "source": [
    "Masaki ['Full_Name']"
   ]
  },
  {
   "cell_type": "code",
   "execution_count": null,
   "id": "46828e36-692c-4ead-b3ae-9d2e151372b1",
   "metadata": {},
   "outputs": [],
   "source": []
  }
 ],
 "metadata": {
  "kernelspec": {
   "display_name": "Python 3 (ipykernel)",
   "language": "python",
   "name": "python3"
  },
  "language_info": {
   "codemirror_mode": {
    "name": "ipython",
    "version": 3
   },
   "file_extension": ".py",
   "mimetype": "text/x-python",
   "name": "python",
   "nbconvert_exporter": "python",
   "pygments_lexer": "ipython3",
   "version": "3.12.7"
  }
 },
 "nbformat": 4,
 "nbformat_minor": 5
}
